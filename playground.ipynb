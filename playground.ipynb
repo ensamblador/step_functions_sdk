{
 "cells": [
  {
   "cell_type": "code",
   "execution_count": 3,
   "metadata": {},
   "outputs": [],
   "source": [
    "import boto3\n",
    "import stepfunctions\n",
    "\n",
    "from stepfunctions.steps import *\n",
    "from stepfunctions.workflow import Workflow"
   ]
  },
  {
   "cell_type": "code",
   "execution_count": 9,
   "metadata": {},
   "outputs": [],
   "source": [
    "LOCAL_PROFILE = 'ensamblador-isengard-dev'\n",
    "REGION = 'us-east-1'"
   ]
  },
  {
   "cell_type": "code",
   "execution_count": 18,
   "metadata": {},
   "outputs": [],
   "source": [
    "session = boto3.Session(profile_name=LOCAL_PROFILE, region_name=REGION)\n",
    "sf_client = session.client('stepfunctions')\n",
    "\n",
    "glue_job1_name = \"litigantes_ddb_etl\"\n",
    "glue_job2_name = \"remates_ddb_etl\"\n",
    "glue_job3_name = \"documentos_ddb_etl\""
   ]
  },
  {
   "cell_type": "code",
   "execution_count": 29,
   "metadata": {},
   "outputs": [
    {
     "data": {
      "text/html": [
       "\n",
       "<link rel=\"stylesheet\" type=\"text/css\" href=\"https://do0of8uwbahzz.cloudfront.net/graph.css\">\n",
       "<div id=\"graph-740\" class=\"workflowgraph\">\n",
       "    \n",
       "    <svg></svg>\n",
       "    \n",
       "</div>\n",
       "\n",
       "<script type=\"text/javascript\">\n",
       "\n",
       "require.config({\n",
       "    paths: {\n",
       "        sfn: \"https://do0of8uwbahzz.cloudfront.net/sfn\",\n",
       "    }\n",
       "});\n",
       "\n",
       "require(['sfn'], function(sfn) {\n",
       "    var element = document.getElementById('graph-740')\n",
       "\n",
       "    var options = {\n",
       "        width: parseFloat(getComputedStyle(element, null).width.replace(\"px\", \"\")),\n",
       "        height: 600,\n",
       "        layout: 'LR',\n",
       "        resizeHeight: true\n",
       "    };\n",
       "\n",
       "    var definition = {\"StartAt\": \"primeros jobs\", \"States\": {\"primeros jobs\": {\"Type\": \"Parallel\", \"Next\": \"documentos_ddb_etl\", \"Branches\": [{\"StartAt\": \"litigantes_ddb_etl\", \"States\": {\"litigantes_ddb_etl\": {\"Parameters\": {\"JobName\": \"litigantes_ddb_etl\"}, \"Resource\": \"arn:aws:states:::glue:startJobRun.sync\", \"Type\": \"Task\", \"End\": true}}}, {\"StartAt\": \"remates_ddb_etl\", \"States\": {\"remates_ddb_etl\": {\"Parameters\": {\"JobName\": \"remates_ddb_etl\"}, \"Resource\": \"arn:aws:states:::glue:startJobRun.sync\", \"Type\": \"Task\", \"End\": true}}}]}, \"documentos_ddb_etl\": {\"Parameters\": {\"JobName\": \"documentos_ddb_etl\"}, \"Resource\": \"arn:aws:states:::glue:startJobRun.sync\", \"Type\": \"Task\", \"Next\": \"Se ejecut\\u00f3?\"}, \"Se ejecut\\u00f3?\": {\"Type\": \"Choice\", \"Choices\": [{\"Variable\": \"$['Success']\", \"BooleanEquals\": true, \"Next\": \"OK\"}, {\"Variable\": \"$['Success']\", \"BooleanEquals\": false, \"Next\": \"ERROR\"}]}, \"OK\": {\"Type\": \"Pass\", \"End\": true}, \"ERROR\": {\"Type\": \"Pass\", \"End\": true}}};\n",
       "    var elementId = '#graph-740';\n",
       "\n",
       "    var graph = new sfn.StateMachineGraph(definition, elementId, options);\n",
       "    graph.render();\n",
       "});\n",
       "\n",
       "</script>\n"
      ],
      "text/plain": [
       "<IPython.core.display.HTML object>"
      ]
     },
     "execution_count": 29,
     "metadata": {},
     "output_type": "execute_result"
    }
   ],
   "source": [
    "workflow_execution_role= \"arn:aws:iam::448716646650:role/AUCTIONS-INGEST-detailsstepmachineObtieneDetallesR-172G3CQ12F3NA\"\n",
    "\n",
    "job1_step  = GlueStartJobRunStep(glue_job1_name, parameters = { \"JobName\": glue_job1_name}  )\n",
    "job2_step  = GlueStartJobRunStep(glue_job2_name, parameters = { \"JobName\": glue_job2_name}  )\n",
    "job3_step  = GlueStartJobRunStep(glue_job3_name, parameters = {\"JobName\": glue_job3_name}  )\n",
    "\n",
    "success_state = Pass(state_id=\"OK\")\n",
    "fail_state = Pass(state_id=\"ERROR\")\n",
    "\n",
    "\n",
    "first_stage = Parallel(\"primeros jobs\")\n",
    "first_stage.add_branch(job1_step)\n",
    "first_stage.add_branch(job2_step)\n",
    "\n",
    "\n",
    "my_choice_state = Choice ('Se ejecutó?')\n",
    "\n",
    "my_choice_state.add_choice(\n",
    "    rule=ChoiceRule.BooleanEquals(variable=job3_step.output()[\"Success\"], value=True),\n",
    "    next_step=success_state\n",
    ")\n",
    "my_choice_state.add_choice(\n",
    "    ChoiceRule.BooleanEquals(variable=job3_step.output()[\"Success\"], value=False),\n",
    "    next_step=fail_state\n",
    ")\n",
    "\n",
    "basic_path = Chain([first_stage, job3_step, my_choice_state])\n",
    "\n",
    "\n",
    "# Next, we define the workflow\n",
    "basic_workflow = Workflow(\n",
    "    name=\"glue_workflow\", definition=basic_path, role=workflow_execution_role,\n",
    "    client=sf_client\n",
    ")\n",
    "\n",
    "basic_workflow.render_graph()"
   ]
  },
  {
   "cell_type": "code",
   "execution_count": 30,
   "metadata": {},
   "outputs": [
    {
     "data": {
      "text/plain": [
       "'arn:aws:states:us-east-1:448716646650:stateMachine:glue_workflow'"
      ]
     },
     "execution_count": 30,
     "metadata": {},
     "output_type": "execute_result"
    }
   ],
   "source": [
    "basic_workflow.create()"
   ]
  },
  {
   "cell_type": "code",
   "execution_count": 16,
   "metadata": {},
   "outputs": [],
   "source": [
    "#print(basic_workflow.definition.to_json(pretty=True))"
   ]
  },
  {
   "cell_type": "code",
   "execution_count": null,
   "metadata": {},
   "outputs": [],
   "source": []
  }
 ],
 "metadata": {
  "interpreter": {
   "hash": "8d2e070b079932f2bd7a7e4ddc70253e905ecb1754312e774dd03531f61b9cf9"
  },
  "kernelspec": {
   "display_name": "Python 3.9.1 ('.venv': venv)",
   "language": "python",
   "name": "python3"
  },
  "language_info": {
   "codemirror_mode": {
    "name": "ipython",
    "version": 3
   },
   "file_extension": ".py",
   "mimetype": "text/x-python",
   "name": "python",
   "nbconvert_exporter": "python",
   "pygments_lexer": "ipython3",
   "version": "3.9.1"
  },
  "orig_nbformat": 4
 },
 "nbformat": 4,
 "nbformat_minor": 2
}
